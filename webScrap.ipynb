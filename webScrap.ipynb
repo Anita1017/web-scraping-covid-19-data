{
 "cells": [
  {
   "cell_type": "code",
   "execution_count": 399,
   "metadata": {},
   "outputs": [],
   "source": [
    "import pandas as pd\n",
    "from bs4 import BeautifulSoup as soup\n",
    "from urllib.request import urlopen"
   ]
  },
  {
   "cell_type": "code",
   "execution_count": 400,
   "metadata": {},
   "outputs": [],
   "source": [
    "url = \"https://en.wikipedia.org/wiki/Template:2019%E2%80%9320_coronavirus_pandemic_data\""
   ]
  },
  {
   "cell_type": "code",
   "execution_count": 401,
   "metadata": {},
   "outputs": [],
   "source": [
    "covid_data = urlopen(url)"
   ]
  },
  {
   "cell_type": "code",
   "execution_count": 402,
   "metadata": {},
   "outputs": [],
   "source": [
    "covid_html = covid_data.read()"
   ]
  },
  {
   "cell_type": "code",
   "execution_count": 403,
   "metadata": {},
   "outputs": [],
   "source": [
    "soup_data = soup(covid_html,'html.parser')"
   ]
  },
  {
   "cell_type": "code",
   "execution_count": 404,
   "metadata": {},
   "outputs": [],
   "source": [
    "table = soup_data.findAll('table',{'class':'wikitable'})\n",
    "covid_table = table[0]"
   ]
  },
  {
   "cell_type": "code",
   "execution_count": 405,
   "metadata": {},
   "outputs": [
    {
     "name": "stdout",
     "output_type": "stream",
     "text": [
      "5\n"
     ]
    }
   ],
   "source": [
    "headers_row = covid_table.findAll('tr',{'class':'covid-sticky'})\n",
    "headers_row = header_row[0]\n",
    "headers = headers_row.findAll('th')\n",
    "print(len(headers))"
   ]
  },
  {
   "cell_type": "code",
   "execution_count": 406,
   "metadata": {},
   "outputs": [
    {
     "name": "stdout",
     "output_type": "stream",
     "text": [
      "['Countries and territories[a]', 'Cases[b]', 'Deaths[c]', 'Recov.[d]', 'Ref.']\n"
     ]
    }
   ],
   "source": [
    "column_titles = [ct.text[:-1] for ct in headers]\n",
    "print(column_titles)"
   ]
  },
  {
   "cell_type": "code",
   "execution_count": null,
   "metadata": {},
   "outputs": [],
   "source": []
  },
  {
   "cell_type": "code",
   "execution_count": 407,
   "metadata": {},
   "outputs": [],
   "source": [
    "rows_data = covid_table.findAll('tr')[2:228]\n",
    "table_rows = []\n",
    "for row in rows_data:\n",
    "    current_row = []\n",
    "    row_dt = row.findAll('a',{})[:1]\n",
    "    row_dd = row.findAll('td',{})\n",
    "    for dt in row_dt:\n",
    "        current_row.append(dt.text)\n",
    "    for dd in row_dd:\n",
    "        current_row.append(dd.text[:-1])\n",
    "    table_rows.append(current_row)"
   ]
  },
  {
   "cell_type": "code",
   "execution_count": 408,
   "metadata": {},
   "outputs": [],
   "source": [
    "filename = 'covid-19.csv'\n",
    "with open(filename,'w',encoding='utf') as f:\n",
    "    header_string = ','.join(column_titles)\n",
    "    header_string +='\\n'\n",
    "    f.write(header_string)\n",
    "    \n",
    "    for row in table_rows:\n",
    "        row_string = \"\"\n",
    "        for w in row:\n",
    "            w = w.replace(',','')\n",
    "            row_string += w + ','\n",
    "        row_string = row_string[:-1]\n",
    "        row_string+= '\\n'\n",
    "        f.write(row_string)"
   ]
  },
  {
   "cell_type": "code",
   "execution_count": 409,
   "metadata": {},
   "outputs": [],
   "source": [
    "df = pd.read_csv('covid-19.csv')"
   ]
  },
  {
   "cell_type": "code",
   "execution_count": 410,
   "metadata": {},
   "outputs": [
    {
     "data": {
      "text/html": [
       "<div>\n",
       "<style scoped>\n",
       "    .dataframe tbody tr th:only-of-type {\n",
       "        vertical-align: middle;\n",
       "    }\n",
       "\n",
       "    .dataframe tbody tr th {\n",
       "        vertical-align: top;\n",
       "    }\n",
       "\n",
       "    .dataframe thead th {\n",
       "        text-align: right;\n",
       "    }\n",
       "</style>\n",
       "<table border=\"1\" class=\"dataframe\">\n",
       "  <thead>\n",
       "    <tr style=\"text-align: right;\">\n",
       "      <th></th>\n",
       "      <th>Countries and territories[a]</th>\n",
       "      <th>Cases[b]</th>\n",
       "      <th>Deaths[c]</th>\n",
       "      <th>Recov.[d]</th>\n",
       "      <th>Ref.</th>\n",
       "    </tr>\n",
       "  </thead>\n",
       "  <tbody>\n",
       "    <tr>\n",
       "      <td>0</td>\n",
       "      <td>United States</td>\n",
       "      <td>676676</td>\n",
       "      <td>34784</td>\n",
       "      <td>56127</td>\n",
       "      <td>[11]</td>\n",
       "    </tr>\n",
       "    <tr>\n",
       "      <td>1</td>\n",
       "      <td>Spain</td>\n",
       "      <td>188068</td>\n",
       "      <td>19478</td>\n",
       "      <td>72963</td>\n",
       "      <td>[14]</td>\n",
       "    </tr>\n",
       "    <tr>\n",
       "      <td>2</td>\n",
       "      <td>Italy</td>\n",
       "      <td>168941</td>\n",
       "      <td>22170</td>\n",
       "      <td>40164</td>\n",
       "      <td>[17]</td>\n",
       "    </tr>\n",
       "    <tr>\n",
       "      <td>3</td>\n",
       "      <td>Germany</td>\n",
       "      <td>138369</td>\n",
       "      <td>4105</td>\n",
       "      <td>66500</td>\n",
       "      <td>[18][19]</td>\n",
       "    </tr>\n",
       "    <tr>\n",
       "      <td>4</td>\n",
       "      <td>France</td>\n",
       "      <td>108847</td>\n",
       "      <td>17920</td>\n",
       "      <td>32812</td>\n",
       "      <td>[21][22]</td>\n",
       "    </tr>\n",
       "    <tr>\n",
       "      <td>5</td>\n",
       "      <td>United Kingdom</td>\n",
       "      <td>108692</td>\n",
       "      <td>14576</td>\n",
       "      <td>–</td>\n",
       "      <td>[24][25]</td>\n",
       "    </tr>\n",
       "    <tr>\n",
       "      <td>6</td>\n",
       "      <td>China</td>\n",
       "      <td>82367</td>\n",
       "      <td>3342</td>\n",
       "      <td>77944</td>\n",
       "      <td>[26]</td>\n",
       "    </tr>\n",
       "    <tr>\n",
       "      <td>7</td>\n",
       "      <td>Iran</td>\n",
       "      <td>77995</td>\n",
       "      <td>4869</td>\n",
       "      <td>52229</td>\n",
       "      <td>[32]</td>\n",
       "    </tr>\n",
       "    <tr>\n",
       "      <td>8</td>\n",
       "      <td>Turkey</td>\n",
       "      <td>74193</td>\n",
       "      <td>1643</td>\n",
       "      <td>7089</td>\n",
       "      <td>[33]</td>\n",
       "    </tr>\n",
       "    <tr>\n",
       "      <td>9</td>\n",
       "      <td>Belgium</td>\n",
       "      <td>36138</td>\n",
       "      <td>5163</td>\n",
       "      <td>7961</td>\n",
       "      <td>[35]</td>\n",
       "    </tr>\n",
       "  </tbody>\n",
       "</table>\n",
       "</div>"
      ],
      "text/plain": [
       "  Countries and territories[a]  Cases[b]  Deaths[c] Recov.[d]      Ref.\n",
       "0                United States    676676      34784     56127      [11]\n",
       "1                        Spain    188068      19478     72963      [14]\n",
       "2                        Italy    168941      22170     40164      [17]\n",
       "3                      Germany    138369       4105     66500  [18][19]\n",
       "4                       France    108847      17920     32812  [21][22]\n",
       "5               United Kingdom    108692      14576         –  [24][25]\n",
       "6                        China     82367       3342     77944      [26]\n",
       "7                         Iran     77995       4869     52229      [32]\n",
       "8                       Turkey     74193       1643      7089      [33]\n",
       "9                      Belgium     36138       5163      7961      [35]"
      ]
     },
     "execution_count": 410,
     "metadata": {},
     "output_type": "execute_result"
    }
   ],
   "source": [
    "df.head(n=10)"
   ]
  },
  {
   "cell_type": "code",
   "execution_count": null,
   "metadata": {},
   "outputs": [],
   "source": []
  }
 ],
 "metadata": {
  "kernelspec": {
   "display_name": "Python 3",
   "language": "python",
   "name": "python3"
  },
  "language_info": {
   "codemirror_mode": {
    "name": "ipython",
    "version": 3
   },
   "file_extension": ".py",
   "mimetype": "text/x-python",
   "name": "python",
   "nbconvert_exporter": "python",
   "pygments_lexer": "ipython3",
   "version": "3.7.4"
  }
 },
 "nbformat": 4,
 "nbformat_minor": 4
}
